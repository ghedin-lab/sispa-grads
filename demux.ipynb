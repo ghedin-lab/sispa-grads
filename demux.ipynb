{
 "cells": [
  {
   "cell_type": "markdown",
   "metadata": {},
   "source": [
    "# Grads SISPA Demultiplexing"
   ]
  },
  {
   "cell_type": "code",
   "execution_count": 23,
   "metadata": {
    "collapsed": false
   },
   "outputs": [
    {
     "name": "stdout",
     "output_type": "stream",
     "text": [
      "@NB501157:23:HYGNVBGXX:1:11101:10000:10441 1:N:0:ATTACTCGAGGCTATA\n",
      "TTGAGTGACTCTCTGTGTGTATCTTCTGTCTTACTCTCCTTCTCTGCCTGTCCGTCTGTCTGTCTGTCTGTCTGTCTCTCTCTCACTGTCTGTCTCTCTCTCTCTCTGTCAATCTCTCAAAGAGAGAAAGACAGAATGACTCAGTGTCAGT\n",
      "+\n",
      "AAAAAEEEEEEEEEEEEEEEEEEEEEEEEEEEEEEEEEEEEEEEEEAEEEEE/EEEEEEEEEEEEEEEEEEEE/EEEEEEEEE//AE/A/<///A////////////////////////////////////////////////////////\n",
      "\n",
      "@NB501157:23:HYGNVBGXX:1:11101:10000:12397 1:N:0:ATTACTCGAGGCTATA\n",
      "TTGAGGGATTGATGAAGGGACTTTTAGCAGGCGCAGCTGGAAGTGCTGATACAACTACAGCATATCCTTCAACATCTGTTGCCAATAATCCTGACCTTTATGGTAATACTGCTTTAGGTGATTCAGGTGCTTTAGGTGCTCCTACTGCTAA\n",
      "+\n",
      "AAAAAEEEEEEEEEEEEEEEEEEEEEEEEEEEEEEEEEEEEEEEEEEEEEEEEEEEEEEEEEEEEEEEEEEEEEEEEEAEEEEEEEEEEEEEEEEEEEEEEEEEAEEEEEEEEEEEAEEEEEEE<EEEEEEEE<AEEEEEEEEEEEEEEEA\n",
      "\n",
      "@NB501157:23:HYGNVBGXX:1:11101:10000:18783 1:N:0:ATTACTCGAGGCTATA\n",
      "GCGAGTGATGTGGGCGATTGATGAAAAGGCGGTTGAGGCGTCTGGTGAATAGTGCATGGCTAGGAATAGTCCTGTGGTGATTTGGAGGATCAGGCAGGCGCCAAGGAGTGAGCCGAAGTTTCATCATGCGGAGATGTTGGATGGGGTGGGG\n",
      "+\n",
      "AAAAAAEAEEEEEEEEEEEEEEEEAEAAEEEEAAEEEEAEEEEEEEEEEAEEEEEEEEEEEEEEEEEEEEAAEEAEEEE6EEEEEEEE/EEEEEEEEEEEE<EAEEEAEEEEEEE/EE<EEE/AE/EEEAEEE/EA/<EE/EEEEEEAEEA\n",
      "\n",
      "@NB501157:23:HYGNVBGXX:1:11101:10000:8948 1:N:0:ATTACTCGAGGCTATA\n",
      "TAAGCCTTAAAAGAGATCTCGTGCTTTGTAGATGAGGACACTGAAGCTCAGATTGCCCAAGGTCACACAGCTGGTATGTGGTGGGATGTATTTGACACAAGGTCTCTAATGACAAAGCCATAATCTTTCTACTACAAAGTGAACATTACCA\n",
      "+\n",
      "AAAAAEEEEEEAEEEEEEEEEEEEEEEEEEEEEAEEEEEEEEEEEEAEEEEEEEEEEEEEEEEEEEEEEEEEEEEEEEEEEEEEEEEEEEEEEEAEEEAEEEEEEEAEEEEEEEEEEEEEEEEEEEEEEEEEEEEEEEEEEAE<E<EEE</\n",
      "\n",
      "@NB501157:23:HYGNVBGXX:1:11101:10000:9822 1:N:0:ATTACTCGAGGCTATA\n",
      "TGAGTTATTCCGCCTCTCTTCAGGGGAAAAAATCTATAAATTAACATGTAACTTCACTACATCTGAGACTTTTATTCAAGAATAAACAGTGAGTCAAATAAAGTACTTTCTCCTAAGTACTCCTGAGGTGGGCACATTAAACAATGTCATC\n",
      "+\n",
      "AAAAAEEEEEEEEEEEEEEEEEEEEEEEEEEEEEEEEEEEEEEEEEEEEEEEEEEEEEEEEEEEEEEEEEEEEEEEEEAEEEEAEEEEEEE6EEEEEEEEEEEEEEEEEEEEEEEEAEEEEEEAA<EEEEEEEEEEEEEEEEEEEAEAAAE\n",
      "\n",
      "@NB501157:23:HYGNVBGXX:1:11101:10001:16513 1:N:0:ATTACTCGAGGCTATA\n",
      "TCGAGGAGAACCGCTCTTATACCCCCACATTATCGAAGCGATTCAATATATCAAACAGAAGAATAAGCGACATACGATACTTCTTACGACTAATGGAGTATTACTTAACAGATTTGCCAAAGAACTACAGTCAAGTGGAGTGGATAGGATT\n",
      "+\n",
      "AAA6AEEE//AAEEEEAEAE6EEEEEEE6EE6EEEEEAEE/EAEEEAEEEEE///EAEE6EEEEEAEEEEE/E/EAEAEEEE/EEEEEEEE/EE/EEE<EEAE/E/</E/EEE6EEEEEEEE6EEEEA<AEEEE/<A<E<E/EE<EEAAA<\n",
      "\n"
     ]
    }
   ],
   "source": [
    "# import modules that you'll need\n",
    "import os\n",
    "import sys\n",
    "import gzip\n",
    "#from subprocess import call\n",
    "\n",
    "# load necessary modules\n",
    "os.system('module load biopython')\n",
    "\n",
    "from Bio import SeqIO\n",
    "\n",
    "# sys.argv[] calls the positional arguments from the command line (fastq files, etc)\n",
    "# with open(sys.argv[1])\n",
    "\n",
    "i = 0\n",
    "\n",
    "with gzip.open(\"HYGNVBGXX_n01_grads_set03_dna_digest.fastq.gz\", \"rb\") as f1: \n",
    "    for record in SeqIO.parse(f1, 'fastq'):\n",
    "        if i <= 5:\n",
    "            print record.format(\"fastq\")\n",
    "            i += 1\n",
    "        else:\n",
    "            break\n",
    "        \n",
    "    "
   ]
  },
  {
   "cell_type": "code",
   "execution_count": null,
   "metadata": {
    "collapsed": true
   },
   "outputs": [],
   "source": []
  }
 ],
 "metadata": {
  "kernelspec": {
   "display_name": "Python 2",
   "language": "python",
   "name": "python2"
  },
  "language_info": {
   "codemirror_mode": {
    "name": "ipython",
    "version": 2
   },
   "file_extension": ".py",
   "mimetype": "text/x-python",
   "name": "python",
   "nbconvert_exporter": "python",
   "pygments_lexer": "ipython2",
   "version": "2.7.6"
  }
 },
 "nbformat": 4,
 "nbformat_minor": 0
}
